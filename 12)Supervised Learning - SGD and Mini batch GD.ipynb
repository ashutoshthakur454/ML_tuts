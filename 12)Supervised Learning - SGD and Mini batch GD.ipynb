{
 "cells": [
  {
   "cell_type": "code",
   "execution_count": 20,
   "id": "3bd25796",
   "metadata": {},
   "outputs": [],
   "source": [
    "import numpy as np\n",
    "import matplotlib.pyplot as plt\n",
    "import pandas as pd"
   ]
  },
  {
   "cell_type": "markdown",
   "id": "863faf0f",
   "metadata": {},
   "source": [
    "We will create an SGD class with methods that we will use while updating the parameters, fitting the training data set, and predicting the new test data. The methods we will be using are as :<br><br>\n",
    "The first line imports the NumPy library, which is used for numerical computations in Python.Define the SGD class:<br><br>\n",
    "1)The class SGD encapsulates the Stochastic Gradient Descent algorithm for training a linear regression model.<br><br>\n",
    "2)Then we initialize the SGD optimizer parameters such as learning rate, number of epochs, batch size, and tolerance. It also initializes weights and bias to None.<br><br>\n",
    "3)predict function: This function computes the predictions for input data X using the current weights and bias. It performs matrix multiplication between input X and weights, and then adds the bias term.<br><br>\n",
    "4)mean_squared_error function: This function calculates the mean squared error between the true target values y_true and the predicted values y_pred.<br><br>\n",
    "5)gradient function: This computes the gradients of the loss function with respect to the weights and bias using the formula for the gradient of the mean squared error loss function.<br><br>\n",
    "6)fit method: This method fits the model to the training data using stochastic gradient descent. It iterates through the specified number of epochs, shuffling the data and updating the weights and bias in each epoch. It also prints the loss periodically and checks for convergence based on the tolerance.<br><br>\n",
    "&emsp; (i)it calculates gradients using a mini-batch of data (X_batch, y_batch). This aligns with the stochastic nature of SGD.<br>\n",
    "&emsp; (ii)After computing the gradients, the method updates the model parameters (self.weights and self.bias) using the learning rate and the calculated gradients. This is consistent with the parameter update step in SGD.<br>\n",
    "&emsp; (iii)The fit method iterates through the entire dataset (X, y) for each epoch. However, it updates the parameters using mini-batches, as indicated by the nested loop that iterates through the dataset in mini-batches (for i in range(0, n_samples, self.batch_size)). This reflects the stochastic nature of SGD, where parameters are updated using a subset of the data."
   ]
  },
  {
   "cell_type": "code",
   "execution_count": 42,
   "id": "e68c6f1a",
   "metadata": {},
   "outputs": [],
   "source": [
    "class SGD:\n",
    "    def __init__(self, lr = 0.01, epochs = 1000, batch_size = 32, tol = 1e-3):\n",
    "        self.learning_rate = lr\n",
    "        self.epochs = epochs\n",
    "        self.batch_size = batch_size\n",
    "        self.tolerance = tol\n",
    "        self.weights = None\n",
    "        self.bias = None\n",
    "        \n",
    "    def predict(self,X):\n",
    "        return np.dot(X,self.weights) + self.bias\n",
    "    \n",
    "    def mean_squared_error(self, y_true, y_pred):\n",
    "        return np.mean((y_true - y_pred)**2)\n",
    "    \n",
    "    def gradient(self, X_batch, y_batch):\n",
    "        y_pred = self.predict(X_batch)\n",
    "        error = y_pred - y_batch\n",
    "#         gradient_weights = 2*np.dot(X_batch.T,error)/X_batch.shape[0]\n",
    "#         gradient_bias = 2*np.mean(error)\n",
    "#         Upper 2 lines of codes also give same result but for uniformity we use:\n",
    "        gradient_weights = (np.dot(y_pred-y_batch,X_batch)*2)/len(y_batch)\n",
    "        gradient_bias = (np.sum(y_pred - y_batch)*2)/len(y_batch)\n",
    "        return gradient_weights, gradient_bias\n",
    "    \n",
    "    def fit(self,X,y):\n",
    "        np.random.seed(42)\n",
    "        n_samples, n_features = X.shape\n",
    "        self.weights= np.random.randn(n_features)\n",
    "        self.bias = np.random.randn()\n",
    "        gd_iterations_df = pd.DataFrame(columns = ['iteration','cost'])\n",
    "        result_idx = 0\n",
    "        for epoch in range(self.epochs):\n",
    "            indices = np.random.permutation(n_samples)\n",
    "            X_shuffled = X[indices]\n",
    "            y_shuffled = y[indices]\n",
    "            for i in range(0,n_samples, self.batch_size):\n",
    "                X_batch = X_shuffled[i:i+self.batch_size]\n",
    "                y_batch = y_shuffled[i:i+self.batch_size]\n",
    "                gradient_weights, gradient_bias = self.gradient(X_batch,y_batch)\n",
    "                self.weights -= self.learning_rate*gradient_weights\n",
    "                self.bias -= self.learning_rate*gradient_bias\n",
    "            if epoch%10 ==0:\n",
    "                y_pred = self.predict(X)\n",
    "                loss = self.mean_squared_error(y,y_pred)\n",
    "#                 print(f\"Epoch {epoch}: Loss {loss}\")\n",
    "                gd_iterations_df.loc[result_idx] = [epoch,loss]\n",
    "                result_idx = result_idx + 1\n",
    "            if np.linalg.norm(gradient_weights) < self.tolerance:\n",
    "                print(\"Convergence reached.\")\n",
    "                break\n",
    "        return gd_iterations_df,self.weights, self.bias"
   ]
  },
  {
   "cell_type": "markdown",
   "id": "36cabfb7",
   "metadata": {},
   "source": [
    "If batch size is 1 then SGD class will act as Stochastic Gradient Descent Optimizer and if batch size is greater than 1 then MIni batch gradient descent will be used."
   ]
  },
  {
   "cell_type": "code",
   "execution_count": 43,
   "id": "6d76b7a6",
   "metadata": {},
   "outputs": [],
   "source": [
    "np.random.seed(42)\n",
    "# Create random dataset with 100 rows and 5 columns\n",
    "X = np.random.randn(100, 5)\n",
    "# create corresponding target value by adding random noise in the dataset\n",
    "y = np.dot(X, np.array([1, 2, 3, 4, 5])) + np.random.randn(100) * 0.1"
   ]
  },
  {
   "cell_type": "code",
   "execution_count": 76,
   "id": "0e0934d2",
   "metadata": {},
   "outputs": [],
   "source": [
    "# Create an instance of the SGD class\n",
    "model = SGD(lr=0.001, epochs=1000,\n",
    "            batch_size=32, tol=1e-3)\n",
    "gd_iterations_df,w,b=model.fit(X,y)\n",
    "# Predict using predict method from model\n",
    "y_pred = np.dot(X,w)+b\n",
    "# y_pred"
   ]
  },
  {
   "cell_type": "code",
   "execution_count": 46,
   "id": "5252f6b7",
   "metadata": {},
   "outputs": [
    {
     "data": {
      "text/html": [
       "<div>\n",
       "<style scoped>\n",
       "    .dataframe tbody tr th:only-of-type {\n",
       "        vertical-align: middle;\n",
       "    }\n",
       "\n",
       "    .dataframe tbody tr th {\n",
       "        vertical-align: top;\n",
       "    }\n",
       "\n",
       "    .dataframe thead th {\n",
       "        text-align: right;\n",
       "    }\n",
       "</style>\n",
       "<table border=\"1\" class=\"dataframe\">\n",
       "  <thead>\n",
       "    <tr style=\"text-align: right;\">\n",
       "      <th></th>\n",
       "      <th>iteration</th>\n",
       "      <th>cost</th>\n",
       "    </tr>\n",
       "  </thead>\n",
       "  <tbody>\n",
       "    <tr>\n",
       "      <th>0</th>\n",
       "      <td>0.0</td>\n",
       "      <td>49.179966</td>\n",
       "    </tr>\n",
       "    <tr>\n",
       "      <th>1</th>\n",
       "      <td>10.0</td>\n",
       "      <td>40.988445</td>\n",
       "    </tr>\n",
       "    <tr>\n",
       "      <th>2</th>\n",
       "      <td>20.0</td>\n",
       "      <td>34.355033</td>\n",
       "    </tr>\n",
       "    <tr>\n",
       "      <th>3</th>\n",
       "      <td>30.0</td>\n",
       "      <td>28.763285</td>\n",
       "    </tr>\n",
       "    <tr>\n",
       "      <th>4</th>\n",
       "      <td>40.0</td>\n",
       "      <td>23.230159</td>\n",
       "    </tr>\n",
       "    <tr>\n",
       "      <th>5</th>\n",
       "      <td>50.0</td>\n",
       "      <td>19.427927</td>\n",
       "    </tr>\n",
       "    <tr>\n",
       "      <th>6</th>\n",
       "      <td>60.0</td>\n",
       "      <td>16.317886</td>\n",
       "    </tr>\n",
       "    <tr>\n",
       "      <th>7</th>\n",
       "      <td>70.0</td>\n",
       "      <td>13.798679</td>\n",
       "    </tr>\n",
       "    <tr>\n",
       "      <th>8</th>\n",
       "      <td>80.0</td>\n",
       "      <td>11.542546</td>\n",
       "    </tr>\n",
       "    <tr>\n",
       "      <th>9</th>\n",
       "      <td>90.0</td>\n",
       "      <td>9.688717</td>\n",
       "    </tr>\n",
       "    <tr>\n",
       "      <th>10</th>\n",
       "      <td>100.0</td>\n",
       "      <td>8.101459</td>\n",
       "    </tr>\n",
       "    <tr>\n",
       "      <th>11</th>\n",
       "      <td>110.0</td>\n",
       "      <td>6.918757</td>\n",
       "    </tr>\n",
       "    <tr>\n",
       "      <th>12</th>\n",
       "      <td>120.0</td>\n",
       "      <td>5.778343</td>\n",
       "    </tr>\n",
       "    <tr>\n",
       "      <th>13</th>\n",
       "      <td>130.0</td>\n",
       "      <td>4.827251</td>\n",
       "    </tr>\n",
       "    <tr>\n",
       "      <th>14</th>\n",
       "      <td>140.0</td>\n",
       "      <td>4.039006</td>\n",
       "    </tr>\n",
       "    <tr>\n",
       "      <th>15</th>\n",
       "      <td>150.0</td>\n",
       "      <td>3.356879</td>\n",
       "    </tr>\n",
       "    <tr>\n",
       "      <th>16</th>\n",
       "      <td>160.0</td>\n",
       "      <td>2.862904</td>\n",
       "    </tr>\n",
       "    <tr>\n",
       "      <th>17</th>\n",
       "      <td>170.0</td>\n",
       "      <td>2.418363</td>\n",
       "    </tr>\n",
       "    <tr>\n",
       "      <th>18</th>\n",
       "      <td>180.0</td>\n",
       "      <td>2.062983</td>\n",
       "    </tr>\n",
       "    <tr>\n",
       "      <th>19</th>\n",
       "      <td>190.0</td>\n",
       "      <td>1.744089</td>\n",
       "    </tr>\n",
       "  </tbody>\n",
       "</table>\n",
       "</div>"
      ],
      "text/plain": [
       "    iteration       cost\n",
       "0         0.0  49.179966\n",
       "1        10.0  40.988445\n",
       "2        20.0  34.355033\n",
       "3        30.0  28.763285\n",
       "4        40.0  23.230159\n",
       "5        50.0  19.427927\n",
       "6        60.0  16.317886\n",
       "7        70.0  13.798679\n",
       "8        80.0  11.542546\n",
       "9        90.0   9.688717\n",
       "10      100.0   8.101459\n",
       "11      110.0   6.918757\n",
       "12      120.0   5.778343\n",
       "13      130.0   4.827251\n",
       "14      140.0   4.039006\n",
       "15      150.0   3.356879\n",
       "16      160.0   2.862904\n",
       "17      170.0   2.418363\n",
       "18      180.0   2.062983\n",
       "19      190.0   1.744089"
      ]
     },
     "execution_count": 46,
     "metadata": {},
     "output_type": "execute_result"
    }
   ],
   "source": [
    "gd_iterations_df[0:20]"
   ]
  },
  {
   "cell_type": "code",
   "execution_count": 47,
   "id": "4116c0fe",
   "metadata": {},
   "outputs": [
    {
     "data": {
      "image/png": "[encoded data removed]",
      "text/plain": [
       "<Figure size 432x288 with 1 Axes>"
      ]
     },
     "metadata": {
      "needs_background": "light"
     },
     "output_type": "display_data"
    }
   ],
   "source": [
    "plt.plot(gd_iterations_df[\"iteration\"],gd_iterations_df[\"cost\"])\n",
    "plt.xlabel(\"Number of iterations\")\n",
    "plt.ylabel(\"Cost (MSE)\")\n",
    "plt.show()"
   ]
  },
  {
   "cell_type": "code",
   "execution_count": 86,
   "id": "127493a5",
   "metadata": {},
   "outputs": [
    {
     "name": "stdout",
     "output_type": "stream",
     "text": [
      "Convergence reached.\n",
      "Convergence reached.\n"
     ]
    },
    {
     "data": {
      "image/png": "[encoded data removed]",
      "text/plain": [
       "<Figure size 432x288 with 1 Axes>"
      ]
     },
     "metadata": {
      "needs_background": "light"
     },
     "output_type": "display_data"
    }
   ],
   "source": [
    "model1 = SGD(lr=0.00001, epochs=1000,batch_size=1, tol=1e-3)\n",
    "alpha_df_1,w,b=model1.fit(X,y)\n",
    "model2 = SGD(lr=0.0001, epochs=1000,batch_size=1, tol=1e-3)\n",
    "alpha_df_2,w,b=model2.fit(X,y)\n",
    "model3 = SGD(lr=0.001, epochs=1000,batch_size=1, tol=1e-3)\n",
    "alpha_df_3,w,b=model3.fit(X,y)\n",
    "plt.plot(alpha_df_1[\"iteration\"],alpha_df_1[\"cost\"],label=\"alpha=0.00001\")\n",
    "plt.plot(alpha_df_2[\"iteration\"],alpha_df_2[\"cost\"],label=\"alpha=0.0001\")\n",
    "plt.plot(alpha_df_3[\"iteration\"],alpha_df_3[\"cost\"],label=\"alpha=0.001\")\n",
    "plt.legend()\n",
    "plt.ylabel('cost')\n",
    "plt.xlabel('Number of iterations')\n",
    "plt.title('Cost Vs. Iterations for Stochastic Gradient Descent')\n",
    "plt.show()"
   ]
  },
  {
   "cell_type": "code",
   "execution_count": 87,
   "id": "51609818",
   "metadata": {},
   "outputs": [
    {
     "data": {
      "image/png": "[encoded data removed]",
      "text/plain": [
       "<Figure size 432x288 with 1 Axes>"
      ]
     },
     "metadata": {
      "needs_background": "light"
     },
     "output_type": "display_data"
    }
   ],
   "source": [
    "model1 = SGD(lr=0.00001, epochs=1000,batch_size=32, tol=1e-3)\n",
    "alpha_df_1,w,b=model1.fit(X,y)\n",
    "model2 = SGD(lr=0.0001, epochs=1000,batch_size=32, tol=1e-3)\n",
    "alpha_df_2,w,b=model2.fit(X,y)\n",
    "model3 = SGD(lr=0.001, epochs=1000,batch_size=32, tol=1e-3)\n",
    "alpha_df_3,w,b=model3.fit(X,y)\n",
    "plt.plot(alpha_df_1[\"iteration\"],alpha_df_1[\"cost\"],label=\"alpha=0.00001\")\n",
    "plt.plot(alpha_df_2[\"iteration\"],alpha_df_2[\"cost\"],label=\"alpha=0.0001\")\n",
    "plt.plot(alpha_df_3[\"iteration\"],alpha_df_3[\"cost\"],label=\"alpha=0.001\")\n",
    "plt.legend()\n",
    "plt.ylabel('cost')\n",
    "plt.xlabel('Number of iterations')\n",
    "plt.title('Cost Vs. Iterations for Mini batch gradient descent')\n",
    "plt.show()"
   ]
  },
  {
   "cell_type": "markdown",
   "id": "92796d80",
   "metadata": {},
   "source": [
    "Stochastic Gradient Descent (SGD):<br>\n",
    "In SGD, the model’s parameters (weights and biases) are updated after processing one training example at a time.<br>\n",
    "Each iteration (or epoch) of SGD involves randomly selecting a single data point from the training dataset and using it to compute the gradient of the loss function with respect to the model parameters.<br>\n",
    "The update is then performed based on this gradient, adjusting the model parameters slightly in the direction that reduces the loss.<br><br>\n",
    "Advantages of SGD:<br>\n",
    "Faster Convergence: Because SGD updates the model more frequently (after each data point), it often converges faster than traditional batch gradient descent. (Which can be seen from the results)<br>\n",
    "Escape Local Minima: The frequent updates allow the model to escape local minima more effectively.<br><br>\n",
    "Disadvantages of SGD:<br>\n",
    "High Variance: Since each update is based on a single data point, the gradient estimate can be noisy, leading to high variance in the parameter updates.<br>\n",
    "Slower Convergence for Smooth Loss Functions: For smooth loss functions, SGD may take longer to converge due to the noisy updates."
   ]
  },
  {
   "cell_type": "markdown",
   "id": "9d045c7a",
   "metadata": {},
   "source": [
    "Mini-Batch Gradient Descent:<br>\n",
    "In practice, a compromise between SGD and batch gradient descent is often used: mini-batch gradient descent.<br>\n",
    "Mini-batch SGD processes a small subset (mini-batch) of the training data at a time (typically with a batch size greater than 1 but smaller than the entire dataset).<br>\n",
    "This strikes a balance between the advantages of both SGD and batch gradient descent.<br><br>\n",
    "Choosing the Batch Size:\n",
    "The choice of batch size depends on factors such as the dataset size, available memory, and computational resources.\n",
    "A common default is a batch size of 32.<br>\n",
    "Larger batch sizes provide more stable gradient estimates but require more memory and slower updates.<br>\n",
    "Smaller batch sizes introduce more noise but allow faster updates."
   ]
  },
  {
   "cell_type": "markdown",
   "id": "743e5e89",
   "metadata": {},
   "source": [
    "##### In summary, while SGD indeed uses a batch size of 1, mini-batch gradient descent (with a small batch size) is often preferred in practice for better convergence and computational efficiency"
   ]
  }
 ],
 "metadata": {
  "kernelspec": {
   "display_name": "Python 3 (ipykernel)",
   "language": "python",
   "name": "python3"
  },
  "language_info": {
   "codemirror_mode": {
    "name": "ipython",
    "version": 3
   },
   "file_extension": ".py",
   "mimetype": "text/x-python",
   "name": "python",
   "nbconvert_exporter": "python",
   "pygments_lexer": "ipython3",
   "version": "3.9.9"
  }
 },
 "nbformat": 4,
 "nbformat_minor": 5
}
